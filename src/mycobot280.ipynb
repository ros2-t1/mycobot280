{
 "cells": [
  {
   "cell_type": "markdown",
   "id": "5d70a9fd",
   "metadata": {},
   "source": [
    "### 필요한 라이브러리를 불러오고 시작"
   ]
  },
  {
   "cell_type": "code",
   "execution_count": 1,
   "id": "44fdd81d",
   "metadata": {},
   "outputs": [],
   "source": [
    "import os\n",
    "import time\n",
    "import threading\n",
    "from pymycobot.mycobot import MyCobot\n",
    "from pymycobot.genre import Angle, Coord"
   ]
  },
  {
   "cell_type": "markdown",
   "id": "9665a21a",
   "metadata": {},
   "source": [
    "### 로봇 연결"
   ]
  },
  {
   "cell_type": "code",
   "execution_count": 2,
   "id": "1aa7d862",
   "metadata": {},
   "outputs": [
    {
     "name": "stdout",
     "output_type": "stream",
     "text": [
      "로봇이 연결되었습니다.\n"
     ]
    }
   ],
   "source": [
    "mc = MyCobot('/dev/ttyJETCOBOT', 1000000)\n",
    "mc.thread_lock = True\n",
    "print(\"로봇이 연결되었습니다.\")"
   ]
  },
  {
   "cell_type": "markdown",
   "id": "3b5a71c2",
   "metadata": {},
   "source": [
    "# 로봇의 현재 데이터 읽기"
   ]
  },
  {
   "cell_type": "code",
   "execution_count": 21,
   "id": "fac344cc",
   "metadata": {},
   "outputs": [
    {
     "name": "stdout",
     "output_type": "stream",
     "text": [
      "현재 각도: [38.05, 12.12, -33.57, -70.13, -0.7, -51.94]\n",
      "현재 좌표: [106.1, 0.2, 277.9, 178.47, 0.81, 0.0]\n",
      "인코더: [1615, 1910, 1666, 2846, 2056, 2639]\n",
      "라디안: [0.664, 0.212, -0.586, -1.224, -0.012, -0.907]\n"
     ]
    }
   ],
   "source": [
    "# 현재 각도 읽기\n",
    "angles = mc.get_angles()\n",
    "print(\"현재 각도:\", angles)\n",
    "\n",
    "# 현재 좌표 읽기\n",
    "coords = mc.get_coords()\n",
    "print(\"현재 좌표:\", coords)\n",
    "\n",
    "# 인코더 값 읽기\n",
    "encoders = mc.get_encoders()\n",
    "print(\"인코더:\", encoders)\n",
    "\n",
    "# 라디안 값 읽기\n",
    "radians = mc.get_radians()\n",
    "print(\"라디안:\", radians)"
   ]
  },
  {
   "cell_type": "markdown",
   "id": "048d780c",
   "metadata": {},
   "source": [
    "### 각 조인트의 동작 범위 확인하기"
   ]
  },
  {
   "cell_type": "code",
   "execution_count": 5,
   "id": "56ad0bce",
   "metadata": {},
   "outputs": [
    {
     "name": "stdout",
     "output_type": "stream",
     "text": [
      "관절 1: -168 ~ 168도\n",
      "관절 2: -135 ~ 135도\n",
      "관절 3: -150 ~ 150도\n",
      "관절 4: -145 ~ 145도\n",
      "관절 5: -165 ~ 165도\n",
      "관절 6: -180 ~ 180도\n",
      "관절 7: 0 ~ 100도\n"
     ]
    }
   ],
   "source": [
    "ANGLE_MIN = [-168, -135, -150, -145, -165, -180, 0]\n",
    "ANGLE_MAX = [168, 135, 150, 145, 165, 180, 100]\n",
    "\n",
    "for i in range(7):\n",
    "    print(f\"관절 {i+1}: {ANGLE_MIN[i]} ~ {ANGLE_MAX[i]}도\")"
   ]
  },
  {
   "cell_type": "markdown",
   "id": "f5b9bf67",
   "metadata": {},
   "source": [
    "### 로봇을 초기 위치로 이동"
   ]
  },
  {
   "cell_type": "code",
   "execution_count": 3,
   "id": "188f9b07",
   "metadata": {},
   "outputs": [
    {
     "name": "stdout",
     "output_type": "stream",
     "text": [
      "로봇을 초기 위치로 리셋합니다.\n",
      "리셋 완료\n"
     ]
    }
   ],
   "source": [
    "# 로봇을 초기 위치로 리셋\n",
    "initial_angles = [0, 0, 0, 0, 0, 0]\n",
    "speed = 50\n",
    "print(\"로봇을 초기 위치로 리셋합니다.\")\n",
    "mc.send_angles(initial_angles, speed)\n",
    "mc.set_gripper_value(100, speed) # 그리퍼 열기\n",
    "time.sleep(3) # 움직임이 완료될 때까지 대기\n",
    "print(\"리셋 완료\")"
   ]
  },
  {
   "cell_type": "markdown",
   "id": "c661f307",
   "metadata": {},
   "source": [
    "### 단일 관절 각도 움직이기\n",
    "* send_angle(조인트 번호, 목표 각도, 속도)"
   ]
  },
  {
   "cell_type": "code",
   "execution_count": 20,
   "id": "283f8e9f",
   "metadata": {},
   "outputs": [
    {
     "name": "stdout",
     "output_type": "stream",
     "text": [
      "관절 1를 30도로 이동합니다.\n",
      "관절 1를 0도로 복귀합니다.\n"
     ]
    }
   ],
   "source": [
    "# 관절 1(베이스)을 30도로 이동\n",
    "joint_id = Angle.J1.value\n",
    "angle = 30\n",
    "speed = 50\n",
    "# 관절 1 (베이스)\n",
    "print(f\"관절 {joint_id}를 {angle}도로 이동합니다.\")\n",
    "mc.send_angle(joint_id, angle, speed)\n",
    "time.sleep(2) # 움직임이 완료될 때까지 대기\n",
    "# 관절 1을 다시 0도로 복귀\n",
    "print(f\"관절 {joint_id}를 0도로 복귀합니다.\")\n",
    "mc.send_angle(joint_id, 0, speed)\n",
    "time.sleep(2) # 움직임이 완료될 때까지 대기"
   ]
  },
  {
   "cell_type": "markdown",
   "id": "afd7cc47",
   "metadata": {},
   "source": [
    "### 모든 관절 각도 움직이기\n",
    "* send_angles(목표 각도 List, 속도)"
   ]
  },
  {
   "cell_type": "code",
   "execution_count": 19,
   "id": "a495c7e9",
   "metadata": {},
   "outputs": [
    {
     "name": "stdout",
     "output_type": "stream",
     "text": [
      "모든 관절을 [20, 20, -20, 20, 20, -45]로 이동합니다.\n",
      "초기 위치로 복귀합니다.\n"
     ]
    }
   ],
   "source": [
    "# 모든 관절을 지정된 각도로 이동\n",
    "target_angles = [20, 20, -20, 20, 20, -45]\n",
    "speed = 50\n",
    "\n",
    "print(f\"모든 관절을 {target_angles}로 이동합니다.\")\n",
    "mc.send_angles(target_angles, speed)\n",
    "time.sleep(3) # 움직임이 완료될 때까지 대기\n",
    "\n",
    "# 초기 위치로 복귀\n",
    "print(\"초기 위치로 복귀합니다.\")\n",
    "mc.send_angles([0, 0, 0, 0, 0, 0], speed)\n",
    "time.sleep(3) # 움직임이 완료될 때까지 대기"
   ]
  },
  {
   "cell_type": "markdown",
   "id": "36c81e63",
   "metadata": {},
   "source": [
    "### 좌표로 로봇 제어하기\n",
    "* send_coords(목표 좌표 List, 속도, 모드)"
   ]
  },
  {
   "cell_type": "code",
   "execution_count": 3,
   "id": "c5d74fdf",
   "metadata": {},
   "outputs": [
    {
     "name": "stdout",
     "output_type": "stream",
     "text": [
      "현재 좌표: [-181.8, -58.3, 321.1, -45.95, -25.9, -11.04]\n",
      "최종 좌표: [-181.8, -58.3, 321.1, -45.95, -25.9, -11.04]\n",
      "초기 위치로 복귀합니다.\n",
      "초기 위치 복귀 완료\n"
     ]
    }
   ],
   "source": [
    "# 현재 좌표 확인\n",
    "current_coords = mc.get_coords()\n",
    "print(\"현재 좌표:\", current_coords)\n",
    "\n",
    "# # 1. 먼저 Z축을 낮추기\n",
    "# work_coords = current_coords.copy()\n",
    "# work_coords[2] -= 50 # Z를 50mm 내리기\n",
    "# print(f\"Z축을 {work_coords[2]}로 내립니다.\")\n",
    "# mc.send_coords(work_coords, 30, 0)\n",
    "# time.sleep(2)\n",
    "\n",
    "# # 2. X 좌표 이동\n",
    "# x_coords = work_coords.copy()\n",
    "# x_coords[0] += 50 # X + 50mm\n",
    "# print(f\"X 좌표를 {x_coords[0]}로 이동합니다.\")\n",
    "# mc.send_coords(x_coords, 30, 0)\n",
    "# time.sleep(2)\n",
    "\n",
    "# 3. Y 좌표 이동\n",
    "# y_coords = x_coords.copy()\n",
    "# y_coords[1] += 50 # Y - 20mm\n",
    "# print(f\"Y 좌표를 {y_coords[1]}로 이동합니다.\")\n",
    "# mc.send_coords(y_coords, 30, 0)\n",
    "# time.sleep(2)\n",
    "\n",
    "# 4. 최종 좌표 확인\n",
    "final_coords = mc.get_coords()\n",
    "print(\"최종 좌표:\", final_coords)\n",
    "\n",
    "# 5. 초기 위치로 복귀\n",
    "print(\"초기 위치로 복귀합니다.\")\n",
    "mc.send_angles([0, 0, 0, 0, 0, 0], 50)\n",
    "time.sleep(2)\n",
    "mc.send_angles([90, 0, -45, -45, 0, 0], 50)\n",
    "time.sleep(2)\n",
    "mc.set_gripper_value(100, 50)\n",
    "time.sleep(2)\n",
    "print(\"초기 위치 복귀 완료\")"
   ]
  },
  {
   "cell_type": "code",
   "execution_count": 29,
   "id": "8417e28c",
   "metadata": {},
   "outputs": [
    {
     "name": "stdout",
     "output_type": "stream",
     "text": [
      "[66.1, 146.0, 250.7, 175.4, 0.3, -3.54]\n"
     ]
    }
   ],
   "source": [
    "mc.get_coords()\n",
    "print(mc.get_coords())  # [x, y, z, rx,print(res.get(\"tvec\")) ry, rz]"
   ]
  },
  {
   "cell_type": "code",
   "execution_count": 21,
   "id": "76beb256-77de-48db-9612-953967ef5151",
   "metadata": {},
   "outputs": [
    {
     "ename": "NameError",
     "evalue": "name 'res' is not defined",
     "output_type": "error",
     "traceback": [
      "\u001b[31m---------------------------------------------------------------------------\u001b[39m",
      "\u001b[31mNameError\u001b[39m                                 Traceback (most recent call last)",
      "\u001b[36mCell\u001b[39m\u001b[36m \u001b[39m\u001b[32mIn[21]\u001b[39m\u001b[32m, line 1\u001b[39m\n\u001b[32m----> \u001b[39m\u001b[32m1\u001b[39m \u001b[38;5;28mprint\u001b[39m(\u001b[43mres\u001b[49m.get(\u001b[33m\"\u001b[39m\u001b[33mtvec\u001b[39m\u001b[33m\"\u001b[39m))\n",
      "\u001b[31mNameError\u001b[39m: name 'res' is not defined"
     ]
    }
   ],
   "source": []
  },
  {
   "cell_type": "markdown",
   "id": "bb755ae9",
   "metadata": {},
   "source": [
    "### 모든 좌표로 한번에 이동\n",
    "* IK를 풀 수 있을 경우에만 이동한다."
   ]
  },
  {
   "cell_type": "code",
   "execution_count": null,
   "id": "836d1b5e",
   "metadata": {},
   "outputs": [
    {
     "name": "stdout",
     "output_type": "stream",
     "text": [
      "현재 좌표: [119.7, -126.0, 306.3, -92.38, 1.65, -89.5]\n",
      "목표 좌표로 이동합니다: [149.7, -156.0, 256.3, -92.38, 1.65, -89.5]\n",
      "초기 위치로 복귀합니다.\n"
     ]
    },
    {
     "data": {
      "text/plain": [
       "-1"
      ]
     },
     "execution_count": 61,
     "metadata": {},
     "output_type": "execute_result"
    }
   ],
   "source": [
    "# 현재 좌표 확인\n",
    "current_coords = mc.get_coords()\n",
    "print(\"현재 좌표:\", current_coords)\n",
    "\n",
    "# 목표 좌표 설정 (현재 위치 기준에서 변경)\n",
    "target_coords = current_coords.copy()\n",
    "target_coords[0] += 30 # X + 30mm\n",
    "target_coords[1] -= 30 # Y - 30mm\n",
    "target_coords[2] -= 50 # Z - 50mm\n",
    "\n",
    "print(f\"목표 좌표로 이동합니다: {target_coords}\")\n",
    "mc.send_coords(target_coords, 50, 0)\n",
    "time.sleep(3)\n",
    "\n",
    "# 초기 좌표로 복귀\n",
    "print(\"초기 위치로 복귀합니다.\")\n",
    "mc.send_angles([0, 0, 0, 0, 0, 0], 50)"
   ]
  },
  {
   "cell_type": "markdown",
   "id": "44567c5d",
   "metadata": {},
   "source": [
    "### 그리퍼 제어\n",
    "* 무언가를 집어야한다면 그냥 완전히 닫으면 닫기"
   ]
  },
  {
   "cell_type": "code",
   "execution_count": 68,
   "id": "715b397d",
   "metadata": {},
   "outputs": [
    {
     "name": "stdout",
     "output_type": "stream",
     "text": [
      "그리퍼를 반쯤 닫습니다.\n",
      "그리퍼를 다시 엽니다.\n"
     ]
    }
   ],
   "source": [
    "# # 그리퍼 완전히 열기\n",
    "# print(\"그리퍼를 완전히 엽니다.\")\n",
    "# mc.set_gripper_value(100, 50)\n",
    "# time.sleep(1)\n",
    "\n",
    "# 그리퍼 반쯤 닫기\n",
    "print(\"그리퍼를 반쯤 닫습니다.\")\n",
    "mc.set_gripper_value(50, 50)\n",
    "time.sleep(1)\n",
    "\n",
    "# # 그리퍼 더 닫기\n",
    "# print(\"그리퍼를 더 닫습니다.\")\n",
    "# mc.set_gripper_value(30, 50)\n",
    "# time.sleep(1)\n",
    "\n",
    "# 그리퍼 완전히 닫기\n",
    "# print(\"그리퍼를 완전히 닫습니다.\")\n",
    "# mc.set_gripper_value(0, 50)\n",
    "# time.sleep(1)\n",
    "\n",
    "# 그리퍼 다시 열기\n",
    "print(\"그리퍼를 다시 엽니다.\")\n",
    "mc.set_gripper_value(100, 50)\n",
    "time.sleep(1)"
   ]
  },
  {
   "cell_type": "markdown",
   "id": "e758b610",
   "metadata": {},
   "source": [
    "### 수동 조작 모드\n",
    "* 주의 : 실행 전 손으로 로봇을 잡고 시작하기"
   ]
  },
  {
   "cell_type": "code",
   "execution_count": null,
   "id": "7ad666e1",
   "metadata": {},
   "outputs": [],
   "source": [
    "# 모터 비활성화\n",
    "print(\"전체 모터를 비활성화합니다.\")\n",
    "mc.release_all_servos()\n",
    "time.sleep(1)"
   ]
  },
  {
   "cell_type": "code",
   "execution_count": null,
   "id": "607064b9",
   "metadata": {},
   "outputs": [],
   "source": [
    "# 모터 활성화\n",
    "print(\"전체 모터를 활성화합니다.\")\n",
    "mc.focus_all_servos()\n",
    "time.sleep(1)"
   ]
  },
  {
   "cell_type": "markdown",
   "id": "ce1b255f",
   "metadata": {},
   "source": [
    "### 로봇팔 다룰 때 제일 많이 하는 행동\n",
    "* 수동 조작 - 현재 좌표 확인 - 수동 조작 - 현재 좌표 확인 - ..."
   ]
  },
  {
   "attachments": {
    "image.png": {
     "image/png": "[encoded data removed]"
    }
   },
   "cell_type": "markdown",
   "id": "2f7519f4",
   "metadata": {},
   "source": [
    "### 동작 함수의 Mode는 2가지 선택지가 있다.\n",
    "* 0 : MoveJ\n",
    "* 1 : MoveL\n",
    "\n",
    "* MoveJ와 MoveL의 비교\n",
    "![image.png](attachment:image.png)"
   ]
  },
  {
   "cell_type": "markdown",
   "id": "04e15c84",
   "metadata": {},
   "source": [
    "# 간단하게 cv2 테스트\n",
    "* VideoCapture() 함수에 장비 경로를 입력 (\"/dev/jetcocam0\")\n",
    "* 장치 확인은 터미널 창에 ls /dev 명령어 실행하면 디바이스 노드를 확인할 수 있다."
   ]
  },
  {
   "cell_type": "code",
   "execution_count": 1,
   "id": "db1117ec",
   "metadata": {},
   "outputs": [],
   "source": [
    "import cv2\n",
    "# 캠 열기\n",
    "cap = cv2.VideoCapture('/dev/jetcocam0')\n",
    "\n",
    "# 캠이 정상적으로 열렸는지 확인\n",
    "if not cap.isOpened():\n",
    "    print(\"웹캠을 열 수 없습니다.\")\n",
    "    exit()\n",
    "    \n",
    "while True:\n",
    "    # 프레임 읽기\n",
    "    ret, frame = cap.read()\n",
    "    if not ret:\n",
    "        print(\"프레임을 가져올 수 없습니다.\")\n",
    "        break\n",
    "    \n",
    "    # 화면에 출력\n",
    "    cv2.imshow('Cam', frame)\n",
    "    \n",
    "    # 'q' 키를 누르면 종료\n",
    "    if cv2.waitKey(1) & 0xFF == ord('q'):\n",
    "        break\n",
    "    \n",
    "# 캠 해제 및 창 닫기\n",
    "cap.release()\n",
    "cv2.destroyAllWindows()"
   ]
  },
  {
   "cell_type": "markdown",
   "id": "103e3941",
   "metadata": {},
   "source": [
    "### 이미지 저장"
   ]
  },
  {
   "cell_type": "code",
   "execution_count": 19,
   "id": "cc267622",
   "metadata": {},
   "outputs": [
    {
     "name": "stdout",
     "output_type": "stream",
     "text": [
      "[저장 완료] /home/jetcobot/dev_ws/pose_ArUco/calibration_checkerboard/capture_20250711_174145.jpg\n",
      "[저장 완료] /home/jetcobot/dev_ws/pose_ArUco/calibration_checkerboard/capture_20250711_174210.jpg\n"
     ]
    }
   ],
   "source": [
    "import cv2\n",
    "import time\n",
    "import os\n",
    "\n",
    "# 저장 경로 설정\n",
    "save_dir = \"/home/jetcobot/dev_ws/pose_ArUco/calibration_checkerboard\"\n",
    "\n",
    "# 디렉토리가 없으면 생성\n",
    "os.makedirs(save_dir, exist_ok=True)\n",
    "\n",
    "# 캠 열기\n",
    "cap = cv2.VideoCapture('/dev/jetcocam0')\n",
    "\n",
    "# 캠이 정상적으로 열렸는지 확인\n",
    "if not cap.isOpened():\n",
    "    print(\"웹캠을 열 수 없습니다.\")\n",
    "    exit()\n",
    "\n",
    "while True:\n",
    "    # 프레임 읽기\n",
    "    ret, frame = cap.read()\n",
    "    if not ret:\n",
    "        print(\"프레임을 가져올 수 없습니다.\")\n",
    "        break\n",
    "\n",
    "    # 화면에 출력\n",
    "    cv2.imshow('Cam', frame)\n",
    "\n",
    "    key = cv2.waitKey(1) & 0xFF\n",
    "\n",
    "    # 'q' 키: 종료\n",
    "    if key == ord('q'):\n",
    "        break\n",
    "\n",
    "    # 's' 키: 이미지 저장\n",
    "    elif key == ord('s'):\n",
    "        filename = f\"capture_{time.strftime('%Y%m%d_%H%M%S')}.jpg\"\n",
    "        filepath = os.path.join(save_dir, filename)\n",
    "        cv2.imwrite(filepath, frame)\n",
    "        print(f\"[저장 완료] {filepath}\")\n",
    "\n",
    "# 캠 해제 및 창 닫기\n",
    "cap.release()\n",
    "cv2.destroyAllWindows()\n"
   ]
  },
  {
   "cell_type": "code",
   "execution_count": null,
   "id": "8c8a5972",
   "metadata": {},
   "outputs": [],
   "source": []
  }
 ],
 "metadata": {
  "kernelspec": {
   "display_name": "Python 3 (ipykernel)",
   "language": "python",
   "name": "python3"
  },
  "language_info": {
   "codemirror_mode": {
    "name": "ipython",
    "version": 3
   },
   "file_extension": ".py",
   "mimetype": "text/x-python",
   "name": "python",
   "nbconvert_exporter": "python",
   "pygments_lexer": "ipython3",
   "version": "3.12.3"
  }
 },
 "nbformat": 4,
 "nbformat_minor": 5
}
